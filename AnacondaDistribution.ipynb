{
 "cells": [
  {
   "cell_type": "markdown",
   "metadata": {},
   "source": [
    "<img src='img/logo.png'>"
   ]
  },
  {
   "cell_type": "markdown",
   "metadata": {},
   "source": [
    "# Data Science Use Case: Literacy and Fertility"
   ]
  },
  {
   "cell_type": "markdown",
   "metadata": {},
   "source": [
    "Packages we'll use\n",
    "-----------------"
   ]
  },
  {
   "cell_type": "markdown",
   "metadata": {},
   "source": [
    "*There are alternative packages and techniques you might use*"
   ]
  },
  {
   "cell_type": "markdown",
   "metadata": {},
   "source": [
    "<div class=\"row\">\n",
    " <div class=\"col-md-4\">\n",
    "   <div class=\"thumbnail\">\n",
    "     <a href='http://docs.python-requests.org/en/master/'>\n",
    "        <img src='http://docs.python-requests.org/en/master/_static/requests-sidebar.png' style='height:80px'>\n",
    "         <div class='caption'>HTTP-based web interactions</div>\n",
    "     </a>\n",
    "   </div>\n",
    " </div>\n",
    " <div class=\"col-md-4\">\n",
    "   <div class=\"thumbnail\">\n",
    "     <a href='https://www.crummy.com/software/BeautifulSoup/bs4/doc/'>\n",
    "       <img src='https://singbookswithemily.files.wordpress.com/2015/03/beautiful-soup-can-w-mock-turtle-coin.jpg' style='height:80px'> \n",
    "        <div class='caption'>Parse HTML documents</div>\n",
    "     </a>\n",
    "   </div>\n",
    " </div>\n",
    " <div class=\"col-md-4\">\n",
    "   <div class=\"thumbnail\">\n",
    "     <a href='https://sqlalchemy.org'>\n",
    "       <img src='http://www.alessandrocucci.it/pyre/restapi/assets/sqlalchemy.png' style='height:80px'> \n",
    "        <div class='caption'>Database access</div>\n",
    "     </a>\n",
    "   </div>\n",
    " </div>\n",
    "</div>    \n",
    "<div class=\"row\">\n",
    " <div class=\"col-md-4\">\n",
    "   <div class=\"thumbnail\">\n",
    "     <a href='https://numpy.org'>\n",
    "       <img src='https://cdn-images-1.medium.com/max/400/1*mc5YIn7jvo5uwuqBOUDw7Q.jpeg' style='height:80px'> \n",
    "        <div class='caption'>Array-based computation</div>\n",
    "     </a>\n",
    "   </div>\n",
    " </div>\n",
    " <div class=\"col-md-4\">\n",
    "   <div class=\"thumbnail\">\n",
    "     <a href='https://pandas.pydata.org'>\n",
    "       <img src='https://pandas.pydata.org/_static/pandas_logo.png' style='height:80px' > \n",
    "        <div class='caption'>Tabular Data</div>\n",
    "     </a>\n",
    "   </div>\n",
    " </div>\n",
    " <div class=\"col-md-4\">\n",
    "   <div class=\"thumbnail\">\n",
    "     <a href='https://matplotlib.org'>\n",
    "       <img src='https://matplotlib.org/_static/logo2.png' style='height:80px' > \n",
    "        <div class='caption'>Plotting and visualization</div>\n",
    "     </a>\n",
    "   </div>\n",
    " </div>\n",
    "</div>    \n",
    "<div class=\"row\">\n",
    " <div class=\"col-md-4\">\n",
    "   <div class=\"thumbnail\">\n",
    "     <a href='https://scikit-learn.org'>\n",
    "       <img src='http://scikit-learn.org/stable/_static/scikit-learn-logo-small.png' style='height:80px' > \n",
    "        <div class='caption'>Machine Learning and Modeling</div>\n",
    "     </a>\n",
    "   </div>\n",
    " </div>\n",
    "</div>    "
   ]
  },
  {
   "cell_type": "markdown",
   "metadata": {},
   "source": [
    "Import code to use later\n",
    "------------------------"
   ]
  },
  {
   "cell_type": "code",
   "execution_count": 1,
   "metadata": {},
   "outputs": [],
   "source": [
    "# Get data from internet\n",
    "import requests\n",
    "\n",
    "# Read HTML\n",
    "from bs4 import BeautifulSoup\n",
    "\n",
    "# Database connection\n",
    "from sqlalchemy import create_engine\n",
    "\n",
    "# Data Processing\n",
    "import pandas as pd\n",
    "import numpy as np\n",
    "\n",
    "# Machine Learning\n",
    "from sklearn.linear_model import LinearRegression\n",
    "from sklearn.feature_selection import f_regression\n",
    "\n",
    "# Plotting\n",
    "import matplotlib.pyplot as plt\n",
    "%matplotlib inline"
   ]
  },
  {
   "cell_type": "markdown",
   "metadata": {},
   "source": [
    "Read data\n",
    "--------"
   ]
  },
  {
   "cell_type": "markdown",
   "metadata": {},
   "source": [
    "[Female Literacy Rates from Wikipedia](https://en.wikipedia.org/wiki/List_of_countries_by_literacy_rate)"
   ]
  },
  {
   "cell_type": "code",
   "execution_count": 26,
   "metadata": {},
   "outputs": [],
   "source": [
    "# Get raw html\n",
    "wikipedia = 'https://en.wikipedia.org/w/index.php'\n",
    "html = requests.get(wikipedia, params=dict(title='List_of_countries_by_literacy_rate',oldid=809221941)).content"
   ]
  },
  {
   "cell_type": "code",
   "execution_count": 2,
   "metadata": {},
   "outputs": [],
   "source": [
    "# Process HTML to list-of-dictionaries\n",
    "\n",
    "soup = BeautifulSoup(html, 'lxml')\n",
    "rows = soup.find('table', attrs={'class':'sortable wikitable'}).find_all('tr')[3:]\n",
    "\n",
    "literacy = []\n",
    "for row in rows:\n",
    "    columns = row.find_all('td')\n",
    "    \n",
    "    name = columns[0].text.strip()\n",
    "    try:\n",
    "        overall = float(columns[1].text[:6])\n",
    "        male = float(columns[2].text[:-1])\n",
    "        female = float(columns[3].text[:-1])\n",
    "    except:\n",
    "        value = None\n",
    "    \n",
    "    literacy.append({'Country':name, 'overall literacy':overall, \n",
    "                     'male literacy':male, 'female literacy':female})"
   ]
  },
  {
   "cell_type": "markdown",
   "metadata": {},
   "source": [
    "## Data Frames: tabular data manipulation"
   ]
  },
  {
   "cell_type": "code",
   "execution_count": 25,
   "metadata": {},
   "outputs": [
    {
     "data": {
      "text/html": [
       "<div>\n",
       "<style scoped>\n",
       "    .dataframe tbody tr th:only-of-type {\n",
       "        vertical-align: middle;\n",
       "    }\n",
       "\n",
       "    .dataframe tbody tr th {\n",
       "        vertical-align: top;\n",
       "    }\n",
       "\n",
       "    .dataframe thead th {\n",
       "        text-align: right;\n",
       "    }\n",
       "</style>\n",
       "<table border=\"1\" class=\"dataframe\">\n",
       "  <thead>\n",
       "    <tr style=\"text-align: right;\">\n",
       "      <th></th>\n",
       "      <th>Country</th>\n",
       "      <th>female literacy</th>\n",
       "      <th>male literacy</th>\n",
       "      <th>overall literacy</th>\n",
       "    </tr>\n",
       "  </thead>\n",
       "  <tbody>\n",
       "    <tr>\n",
       "      <th>0</th>\n",
       "      <td>Afghanistan</td>\n",
       "      <td>24.2</td>\n",
       "      <td>52.0</td>\n",
       "      <td>38.156</td>\n",
       "    </tr>\n",
       "    <tr>\n",
       "      <th>1</th>\n",
       "      <td>Albania</td>\n",
       "      <td>96.8</td>\n",
       "      <td>98.4</td>\n",
       "      <td>97.553</td>\n",
       "    </tr>\n",
       "    <tr>\n",
       "      <th>2</th>\n",
       "      <td>Algeria</td>\n",
       "      <td>73.1</td>\n",
       "      <td>87.2</td>\n",
       "      <td>80.198</td>\n",
       "    </tr>\n",
       "    <tr>\n",
       "      <th>3</th>\n",
       "      <td>Andorra</td>\n",
       "      <td>73.1</td>\n",
       "      <td>87.2</td>\n",
       "      <td>80.198</td>\n",
       "    </tr>\n",
       "    <tr>\n",
       "      <th>4</th>\n",
       "      <td>Angola</td>\n",
       "      <td>60.7</td>\n",
       "      <td>82.0</td>\n",
       "      <td>71.140</td>\n",
       "    </tr>\n",
       "  </tbody>\n",
       "</table>\n",
       "</div>"
      ],
      "text/plain": [
       "       Country  female literacy  male literacy  overall literacy\n",
       "0  Afghanistan             24.2           52.0            38.156\n",
       "1      Albania             96.8           98.4            97.553\n",
       "2      Algeria             73.1           87.2            80.198\n",
       "3      Andorra             73.1           87.2            80.198\n",
       "4       Angola             60.7           82.0            71.140"
      ]
     },
     "execution_count": 25,
     "metadata": {},
     "output_type": "execute_result"
    }
   ],
   "source": [
    "literacy = pd.DataFrame.from_records(literacy)\n",
    "literacy.head()"
   ]
  },
  {
   "cell_type": "markdown",
   "metadata": {},
   "source": [
    "Top countries where *female literacy* is larger than *male literacy*."
   ]
  },
  {
   "cell_type": "code",
   "execution_count": 19,
   "metadata": {},
   "outputs": [
    {
     "data": {
      "text/html": [
       "<div>\n",
       "<style scoped>\n",
       "    .dataframe tbody tr th:only-of-type {\n",
       "        vertical-align: middle;\n",
       "    }\n",
       "\n",
       "    .dataframe tbody tr th {\n",
       "        vertical-align: top;\n",
       "    }\n",
       "\n",
       "    .dataframe thead th {\n",
       "        text-align: right;\n",
       "    }\n",
       "</style>\n",
       "<table border=\"1\" class=\"dataframe\">\n",
       "  <thead>\n",
       "    <tr style=\"text-align: right;\">\n",
       "      <th></th>\n",
       "      <th>Country</th>\n",
       "      <th>female literacy</th>\n",
       "      <th>male literacy</th>\n",
       "      <th>overall literacy</th>\n",
       "    </tr>\n",
       "  </thead>\n",
       "  <tbody>\n",
       "    <tr>\n",
       "      <th>43</th>\n",
       "      <td>Cuba</td>\n",
       "      <td>99.8</td>\n",
       "      <td>99.7</td>\n",
       "      <td>99.711</td>\n",
       "    </tr>\n",
       "    <tr>\n",
       "      <th>131</th>\n",
       "      <td>Palau</td>\n",
       "      <td>99.6</td>\n",
       "      <td>99.5</td>\n",
       "      <td>99.523</td>\n",
       "    </tr>\n",
       "    <tr>\n",
       "      <th>174</th>\n",
       "      <td>Tonga</td>\n",
       "      <td>99.4</td>\n",
       "      <td>99.3</td>\n",
       "      <td>99.397</td>\n",
       "    </tr>\n",
       "    <tr>\n",
       "      <th>146</th>\n",
       "      <td>Samoa</td>\n",
       "      <td>99.1</td>\n",
       "      <td>98.9</td>\n",
       "      <td>99.015</td>\n",
       "    </tr>\n",
       "    <tr>\n",
       "      <th>147</th>\n",
       "      <td>San Marino</td>\n",
       "      <td>99.1</td>\n",
       "      <td>98.9</td>\n",
       "      <td>99.015</td>\n",
       "    </tr>\n",
       "  </tbody>\n",
       "</table>\n",
       "</div>"
      ],
      "text/plain": [
       "        Country  female literacy  male literacy  overall literacy\n",
       "43         Cuba             99.8           99.7            99.711\n",
       "131       Palau             99.6           99.5            99.523\n",
       "174       Tonga             99.4           99.3            99.397\n",
       "146       Samoa             99.1           98.9            99.015\n",
       "147  San Marino             99.1           98.9            99.015"
      ]
     },
     "execution_count": 19,
     "metadata": {},
     "output_type": "execute_result"
    }
   ],
   "source": [
    "high_female = literacy.loc[literacy['female literacy'] > literacy['male literacy']]\n",
    "high_female.nlargest(5, 'female literacy')"
   ]
  },
  {
   "cell_type": "markdown",
   "metadata": {},
   "source": [
    "## One More Data Source: SQL table"
   ]
  },
  {
   "cell_type": "markdown",
   "metadata": {},
   "source": [
    "Other Economic and social indicators from [Gapminder.org](gapminder.org)"
   ]
  },
  {
   "cell_type": "code",
   "execution_count": 15,
   "metadata": {},
   "outputs": [
    {
     "data": {
      "text/html": [
       "<div>\n",
       "<style scoped>\n",
       "    .dataframe tbody tr th:only-of-type {\n",
       "        vertical-align: middle;\n",
       "    }\n",
       "\n",
       "    .dataframe tbody tr th {\n",
       "        vertical-align: top;\n",
       "    }\n",
       "\n",
       "    .dataframe thead th {\n",
       "        text-align: right;\n",
       "    }\n",
       "</style>\n",
       "<table border=\"1\" class=\"dataframe\">\n",
       "  <thead>\n",
       "    <tr style=\"text-align: right;\">\n",
       "      <th></th>\n",
       "      <th>Country</th>\n",
       "      <th>fertility</th>\n",
       "    </tr>\n",
       "  </thead>\n",
       "  <tbody>\n",
       "    <tr>\n",
       "      <th>49</th>\n",
       "      <td>Afghanistan</td>\n",
       "      <td>4.900</td>\n",
       "    </tr>\n",
       "    <tr>\n",
       "      <th>99</th>\n",
       "      <td>Albania</td>\n",
       "      <td>1.771</td>\n",
       "    </tr>\n",
       "    <tr>\n",
       "      <th>149</th>\n",
       "      <td>Algeria</td>\n",
       "      <td>2.795</td>\n",
       "    </tr>\n",
       "    <tr>\n",
       "      <th>199</th>\n",
       "      <td>Angola</td>\n",
       "      <td>5.863</td>\n",
       "    </tr>\n",
       "    <tr>\n",
       "      <th>249</th>\n",
       "      <td>Antigua and Barbuda</td>\n",
       "      <td>2.089</td>\n",
       "    </tr>\n",
       "  </tbody>\n",
       "</table>\n",
       "</div>"
      ],
      "text/plain": [
       "                 Country  fertility\n",
       "49           Afghanistan      4.900\n",
       "99               Albania      1.771\n",
       "149              Algeria      2.795\n",
       "199               Angola      5.863\n",
       "249  Antigua and Barbuda      2.089"
      ]
     },
     "execution_count": 15,
     "metadata": {},
     "output_type": "execute_result"
    }
   ],
   "source": [
    "database = create_engine('sqlite:///data/gapminder.sqlite')\n",
    "fertility = pd.read_sql('select Country,fertility,Year from world_data', \n",
    "                        database)\n",
    "\n",
    "fertility_2013 = fertility.loc[fertility['Year']==2013, \n",
    "                               ['Country','fertility']]\n",
    "fertility_2013.head()"
   ]
  },
  {
   "cell_type": "markdown",
   "metadata": {},
   "source": [
    "Merge and Process data\n",
    "--------------------"
   ]
  },
  {
   "cell_type": "code",
   "execution_count": 6,
   "metadata": {},
   "outputs": [
    {
     "data": {
      "text/html": [
       "<div>\n",
       "<style scoped>\n",
       "    .dataframe tbody tr th:only-of-type {\n",
       "        vertical-align: middle;\n",
       "    }\n",
       "\n",
       "    .dataframe tbody tr th {\n",
       "        vertical-align: top;\n",
       "    }\n",
       "\n",
       "    .dataframe thead th {\n",
       "        text-align: right;\n",
       "    }\n",
       "</style>\n",
       "<table border=\"1\" class=\"dataframe\">\n",
       "  <thead>\n",
       "    <tr style=\"text-align: right;\">\n",
       "      <th></th>\n",
       "      <th>Country</th>\n",
       "      <th>female literacy</th>\n",
       "      <th>male literacy</th>\n",
       "      <th>overall literacy</th>\n",
       "      <th>fertility</th>\n",
       "    </tr>\n",
       "  </thead>\n",
       "  <tbody>\n",
       "    <tr>\n",
       "      <th>0</th>\n",
       "      <td>Afghanistan</td>\n",
       "      <td>24.2</td>\n",
       "      <td>52.0</td>\n",
       "      <td>38.156</td>\n",
       "      <td>4.900</td>\n",
       "    </tr>\n",
       "    <tr>\n",
       "      <th>1</th>\n",
       "      <td>Albania</td>\n",
       "      <td>96.8</td>\n",
       "      <td>98.4</td>\n",
       "      <td>97.553</td>\n",
       "      <td>1.771</td>\n",
       "    </tr>\n",
       "    <tr>\n",
       "      <th>2</th>\n",
       "      <td>Algeria</td>\n",
       "      <td>73.1</td>\n",
       "      <td>87.2</td>\n",
       "      <td>80.198</td>\n",
       "      <td>2.795</td>\n",
       "    </tr>\n",
       "    <tr>\n",
       "      <th>3</th>\n",
       "      <td>Angola</td>\n",
       "      <td>60.7</td>\n",
       "      <td>82.0</td>\n",
       "      <td>71.140</td>\n",
       "      <td>5.863</td>\n",
       "    </tr>\n",
       "    <tr>\n",
       "      <th>4</th>\n",
       "      <td>Antigua and Barbuda</td>\n",
       "      <td>60.7</td>\n",
       "      <td>82.0</td>\n",
       "      <td>71.140</td>\n",
       "      <td>2.089</td>\n",
       "    </tr>\n",
       "  </tbody>\n",
       "</table>\n",
       "</div>"
      ],
      "text/plain": [
       "               Country  female literacy  male literacy  overall literacy  \\\n",
       "0          Afghanistan             24.2           52.0            38.156   \n",
       "1              Albania             96.8           98.4            97.553   \n",
       "2              Algeria             73.1           87.2            80.198   \n",
       "3               Angola             60.7           82.0            71.140   \n",
       "4  Antigua and Barbuda             60.7           82.0            71.140   \n",
       "\n",
       "   fertility  \n",
       "0      4.900  \n",
       "1      1.771  \n",
       "2      2.795  \n",
       "3      5.863  \n",
       "4      2.089  "
      ]
     },
     "execution_count": 6,
     "metadata": {},
     "output_type": "execute_result"
    }
   ],
   "source": [
    "merged_data = pd.merge(literacy, fertility_2013, \n",
    "                       on='Country', how='inner').dropna()\n",
    "merged_data.head()"
   ]
  },
  {
   "cell_type": "code",
   "execution_count": 8,
   "metadata": {
    "scrolled": true
   },
   "outputs": [
    {
     "data": {
      "text/html": [
       "<div>\n",
       "<style scoped>\n",
       "    .dataframe tbody tr th:only-of-type {\n",
       "        vertical-align: middle;\n",
       "    }\n",
       "\n",
       "    .dataframe tbody tr th {\n",
       "        vertical-align: top;\n",
       "    }\n",
       "\n",
       "    .dataframe thead th {\n",
       "        text-align: right;\n",
       "    }\n",
       "</style>\n",
       "<table border=\"1\" class=\"dataframe\">\n",
       "  <thead>\n",
       "    <tr style=\"text-align: right;\">\n",
       "      <th></th>\n",
       "      <th>female literacy</th>\n",
       "      <th>male literacy</th>\n",
       "      <th>overall literacy</th>\n",
       "      <th>fertility</th>\n",
       "    </tr>\n",
       "  </thead>\n",
       "  <tbody>\n",
       "    <tr>\n",
       "      <th>female literacy</th>\n",
       "      <td>1.000000</td>\n",
       "      <td>0.957122</td>\n",
       "      <td>0.992806</td>\n",
       "      <td>-0.646406</td>\n",
       "    </tr>\n",
       "    <tr>\n",
       "      <th>male literacy</th>\n",
       "      <td>0.957122</td>\n",
       "      <td>1.000000</td>\n",
       "      <td>0.984785</td>\n",
       "      <td>-0.627928</td>\n",
       "    </tr>\n",
       "    <tr>\n",
       "      <th>overall literacy</th>\n",
       "      <td>0.992806</td>\n",
       "      <td>0.984785</td>\n",
       "      <td>1.000000</td>\n",
       "      <td>-0.645064</td>\n",
       "    </tr>\n",
       "    <tr>\n",
       "      <th>fertility</th>\n",
       "      <td>-0.646406</td>\n",
       "      <td>-0.627928</td>\n",
       "      <td>-0.645064</td>\n",
       "      <td>1.000000</td>\n",
       "    </tr>\n",
       "  </tbody>\n",
       "</table>\n",
       "</div>"
      ],
      "text/plain": [
       "                  female literacy  male literacy  overall literacy  fertility\n",
       "female literacy          1.000000       0.957122          0.992806  -0.646406\n",
       "male literacy            0.957122       1.000000          0.984785  -0.627928\n",
       "overall literacy         0.992806       0.984785          1.000000  -0.645064\n",
       "fertility               -0.646406      -0.627928         -0.645064   1.000000"
      ]
     },
     "execution_count": 8,
     "metadata": {},
     "output_type": "execute_result"
    }
   ],
   "source": [
    "merged_data.corr(method='pearson')"
   ]
  },
  {
   "cell_type": "markdown",
   "metadata": {},
   "source": [
    "Modeling\n",
    "-------"
   ]
  },
  {
   "cell_type": "code",
   "execution_count": 20,
   "metadata": {},
   "outputs": [],
   "source": [
    "X = merged_data[['female literacy']]\n",
    "y = merged_data['fertility']\n",
    "\n",
    "model = LinearRegression()\n",
    "model.fit(X, y)\n",
    "\n",
    "r_squared = model.score(X, y)\n",
    "Fvalue, pvalue = f_regression(X, y)"
   ]
  },
  {
   "cell_type": "code",
   "execution_count": 21,
   "metadata": {},
   "outputs": [
    {
     "name": "stdout",
     "output_type": "stream",
     "text": [
      "Slope     -0.042\n",
      "Inercept   6.201\n",
      "R^2        0.418\n",
      "p-value    3.930e-21\n"
     ]
    }
   ],
   "source": [
    "print('Slope    {:7.3f}'.format(model.coef_[0]))\n",
    "print('Inercept {:7.3f}'.format(model.intercept_))\n",
    "print('R^2      {:7.3f}'.format(r_squared))\n",
    "print('p-value  {:11.3e}'.format(pvalue[0]))"
   ]
  },
  {
   "cell_type": "markdown",
   "metadata": {},
   "source": [
    "Plotting\n",
    "--------"
   ]
  },
  {
   "cell_type": "markdown",
   "metadata": {},
   "source": [
    "We'll construct a simpler model with with just one Y column."
   ]
  },
  {
   "cell_type": "code",
   "execution_count": 27,
   "metadata": {},
   "outputs": [
    {
     "data": {
      "image/png": "[encoded data removed]",
      "text/plain": [
       "<matplotlib.figure.Figure at 0x10e3b6ac8>"
      ]
     },
     "metadata": {},
     "output_type": "display_data"
    }
   ],
   "source": [
    "x_plot = np.linspace(0, 100, 2).reshape((2,1))\n",
    "y_predicted = model.predict(x_plot)\n",
    "\n",
    "fig, ax = plt.subplots(figsize=(12,8))\n",
    "ax.scatter(X['female literacy'], y, marker='.')\n",
    "ax.plot(x_plot, y_predicted, 'r')\n",
    "ax.set_xlabel('female literacy rate')\n",
    "ax.set_ylabel('fertility (children per woman)');"
   ]
  },
  {
   "cell_type": "markdown",
   "metadata": {},
   "source": [
    "<img src='img/copyright.png'>"
   ]
  }
 ],
 "metadata": {
  "kernelspec": {
   "display_name": "Python 3",
   "language": "python",
   "name": "python3"
  },
  "language_info": {
   "codemirror_mode": {
    "name": "ipython",
    "version": 3
   },
   "file_extension": ".py",
   "mimetype": "text/x-python",
   "name": "python",
   "nbconvert_exporter": "python",
   "pygments_lexer": "ipython3",
   "version": "3.6.4"
  }
 },
 "nbformat": 4,
 "nbformat_minor": 1
}
